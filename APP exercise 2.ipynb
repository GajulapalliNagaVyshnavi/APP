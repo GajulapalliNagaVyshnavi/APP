{
 "cells": [
  {
   "cell_type": "code",
   "execution_count": 7,
   "id": "5234c90a",
   "metadata": {},
   "outputs": [
    {
     "name": "stdout",
     "output_type": "stream",
     "text": [
      "enter the word: vyshnavi\n",
      "ivanhsyv\n"
     ]
    }
   ],
   "source": [
    "def mirror(a):\n",
    "    rev=a[::-1]\n",
    "    print(rev)\n",
    "s1=input(\"enter the word: \")\n",
    "mirror(s1)"
   ]
  },
  {
   "cell_type": "code",
   "execution_count": 12,
   "id": "18307649",
   "metadata": {},
   "outputs": [
    {
     "name": "stdout",
     "output_type": "stream",
     "text": [
      "Enter first word wonderful\n",
      "Enter second word lufrednow\n",
      "True\n"
     ]
    }
   ],
   "source": [
    "def mirror(a,b):\n",
    "    rev=a[::-1]\n",
    "    if(b==rev):\n",
    "        print(\"True\")\n",
    "    else:\n",
    "        print(\"False\")\n",
    "s1=input(\"Enter first word \")\n",
    "s2=input(\"Enter second word \")\n",
    "mirror(s1,s2)"
   ]
  },
  {
   "cell_type": "code",
   "execution_count": 16,
   "id": "8b632716",
   "metadata": {},
   "outputs": [
    {
     "name": "stdout",
     "output_type": "stream",
     "text": [
      "length random binary string is:  10001100\n"
     ]
    }
   ],
   "source": [
    "import random\n",
    "def rand_key(p):\n",
    "    key1= \"\"\n",
    "    for i in range(p):\n",
    "        temp= str(random.randint(0,1))\n",
    "        key1 += temp\n",
    "    return(key1)\n",
    "n=8\n",
    "str1 = rand_key(n)\n",
    "print(\"length random binary string is: \",str1)"
   ]
  },
  {
   "cell_type": "code",
   "execution_count": 22,
   "id": "1393d2b9",
   "metadata": {},
   "outputs": [
    {
     "name": "stdout",
     "output_type": "stream",
     "text": [
      "original string is: black, is best: colour to ! girls;\n",
      "string after removing punctuations: black is best colour to  girls\n"
     ]
    }
   ],
   "source": [
    "nrml_str=\"black, is best: colour to ! girls;\"\n",
    "print(\"original string is: \" + nrml_str)\n",
    "punc='''!()-[]{};;'''\"\\,<>./?:@#$%^&*_\"\n",
    "for ele in nrml_str:\n",
    "    if ele in punc:\n",
    "        nrml_str = nrml_str.replace(ele,\"\")\n",
    "print(\"string after removing punctuations: \" + nrml_str)"
   ]
  },
  {
   "cell_type": "code",
   "execution_count": 24,
   "id": "c68d4d6a",
   "metadata": {},
   "outputs": [
    {
     "name": "stdout",
     "output_type": "stream",
     "text": [
      "original lists: \n",
      "(11, 2, 3, 14)\n",
      "(13, 5, 22, 10)\n",
      "(12, 2, 3, 10)\n",
      "\n",
      "elemnt-wise sum: \n",
      "(36, 9, 28, 34)\n"
     ]
    }
   ],
   "source": [
    "x=(11, 2, 3, 14)\n",
    "y=(13, 5, 22, 10)\n",
    "z=(12, 2, 3, 10)\n",
    "print(\"original lists: \")\n",
    "print(x)\n",
    "print(y)\n",
    "print(z)\n",
    "print(\"\\nelemnt-wise sum: \")\n",
    "result = tuple(map(sum, zip(x, y, z)))\n",
    "print(result)"
   ]
  },
  {
   "cell_type": "code",
   "execution_count": 25,
   "id": "6eb6dadc",
   "metadata": {},
   "outputs": [
    {
     "name": "stdout",
     "output_type": "stream",
     "text": [
      "[('',), ('a', 'b'), ('a', 'b', 'c'), 'd']\n"
     ]
    }
   ],
   "source": [
    "list=[(), (), ('',), ('a','b'), ('a','b', 'c'),('d')]\n",
    "list=[t for t in list if t]\n",
    "print(list)\n"
   ]
  },
  {
   "cell_type": "code",
   "execution_count": 26,
   "id": "7f7ee80f",
   "metadata": {},
   "outputs": [
    {
     "name": "stdout",
     "output_type": "stream",
     "text": [
      "3\n"
     ]
    }
   ],
   "source": [
    "num = [10,20,30,(10,20),40]\n",
    "count =0\n",
    "for n in num:\n",
    "    if isinstance(n, tuple):\n",
    "        break\n",
    "    count +=1\n",
    "print(count)"
   ]
  },
  {
   "cell_type": "code",
   "execution_count": 37,
   "id": "d4629c4f",
   "metadata": {},
   "outputs": [
    {
     "name": "stdout",
     "output_type": "stream",
     "text": [
      "No of unique items are: 5\n"
     ]
    }
   ],
   "source": [
    "input_list = [1, 2, 2, 5, 8, 4, 4, 8]\n",
    "l1 = []\n",
    "count = 0\n",
    "for item in input_list:\n",
    "    if item not in l1:\n",
    "        count += 1\n",
    "        l1.append(item)\n",
    "print(\"No of unique items are:\", count)"
   ]
  },
  {
   "cell_type": "code",
   "execution_count": 38,
   "id": "32799715",
   "metadata": {},
   "outputs": [
    {
     "name": "stdout",
     "output_type": "stream",
     "text": [
      "1 2 3\n",
      "1 3 2\n",
      "2 1 3\n",
      "2 3 1\n",
      "3 1 2\n",
      "3 2 1\n"
     ]
    }
   ],
   "source": [
    "def comb(L):\n",
    "    for i in range(3):\n",
    "        for j in range(3):\n",
    "            for k in range(3):\n",
    "                if (i!=j and j!=k and i!=k):\n",
    "                    print(L[i], L[j], L[k])\n",
    "comb([1, 2, 3])"
   ]
  },
  {
   "cell_type": "code",
   "execution_count": 46,
   "id": "16a2e6d3",
   "metadata": {},
   "outputs": [
    {
     "name": "stdout",
     "output_type": "stream",
     "text": [
      "Enter string:lol\n",
      "String is a palindrome!\n"
     ]
    }
   ],
   "source": [
    "def is_palindrome(s):\n",
    "    if len(s) < 1:\n",
    "        return True\n",
    "    else:\n",
    "        if s[0] == s[-1]:\n",
    "            return is_palindrome(s[1:-1])\n",
    "        else:\n",
    "            return False\n",
    "a=str(input(\"Enter string:\"))\n",
    "if(is_palindrome(a)==True):\n",
    "    print(\"String is a palindrome!\")\n",
    "else:\n",
    "    print(\"String isn't a palindrome!\")"
   ]
  },
  {
   "cell_type": "code",
   "execution_count": 56,
   "id": "d7ea6946",
   "metadata": {},
   "outputs": [
    {
     "name": "stdout",
     "output_type": "stream",
     "text": [
      "False\n"
     ]
    }
   ],
   "source": [
    "def test_prime(n):\n",
    "    if (n==1):\n",
    "        return False\n",
    "    elif (n==2):\n",
    "        return True;\n",
    "    else:\n",
    "        for x in range(2,n):\n",
    "            if(n % x==0):\n",
    "                return False\n",
    "            return True\n",
    "print(test_prime(6))"
   ]
  }
 ],
 "metadata": {
  "kernelspec": {
   "display_name": "Python 3 (ipykernel)",
   "language": "python",
   "name": "python3"
  },
  "language_info": {
   "codemirror_mode": {
    "name": "ipython",
    "version": 3
   },
   "file_extension": ".py",
   "mimetype": "text/x-python",
   "name": "python",
   "nbconvert_exporter": "python",
   "pygments_lexer": "ipython3",
   "version": "3.9.18"
  }
 },
 "nbformat": 4,
 "nbformat_minor": 5
}
