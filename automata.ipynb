{
 "cells": [
  {
   "cell_type": "code",
   "execution_count": 1,
   "id": "b521bed0",
   "metadata": {},
   "outputs": [
    {
     "name": "stdout",
     "output_type": "stream",
     "text": [
      "accepted\n"
     ]
    }
   ],
   "source": [
    "# 01\n",
    "from automata.fa.dfa import DFA\n",
    "dfa = DFA(\n",
    "     states = {'q0','q1','q2','d'},\n",
    "     input_symbols = {'0','1'},\n",
    "     transitions = {\n",
    "         'q0':{'0':'q2','1':'q1'},\n",
    "         'q1':{'0':'q2','1':'q1'},\n",
    "         'q2':{'0':'d','1':'q1'},\n",
    "         'd':{'0':'d','1':'d'}\n",
    "     },\n",
    "     initial_state = 'q0',\n",
    "     final_states ={'q2','q1'}\n",
    " )\n",
    "if(dfa.accepts_input('01101')):\n",
    "     print(\"accepted\")\n",
    "else :print(\"rejected\")"
   ]
  },
  {
   "cell_type": "code",
   "execution_count": 3,
   "id": "b145889a",
   "metadata": {},
   "outputs": [
    {
     "name": "stdout",
     "output_type": "stream",
     "text": [
      "Collecting automata-lib\n",
      "  Downloading automata_lib-5.0.0-py3-none-any.whl (32 kB)\n",
      "Collecting pydot\n",
      "  Using cached pydot-1.4.2-py2.py3-none-any.whl (21 kB)\n",
      "Requirement already satisfied: pyparsing>=2.1.4 in c:\\users\\vaishnavi\\anaconda3\\new folder\\lib\\site-packages (from pydot->automata-lib) (3.0.4)\n",
      "Installing collected packages: pydot, automata-lib\n",
      "Successfully installed automata-lib-5.0.0 pydot-1.4.2\n",
      "Note: you may need to restart the kernel to use updated packages.\n"
     ]
    }
   ],
   "source": [
    "pip install automata-lib"
   ]
  },
  {
   "cell_type": "code",
   "execution_count": 5,
   "id": "4cf79c20",
   "metadata": {},
   "outputs": [
    {
     "name": "stdout",
     "output_type": "stream",
     "text": [
      "11100\n",
      "10101101110\n"
     ]
    }
   ],
   "source": [
    "# 02\n",
    "from automata.fa.dfa import DFA\n",
    "dfa = DFA(\n",
    "     states = {'q0','q1','q2','d'},\n",
    "     input_symbols = {'0','1'},\n",
    "     transitions = {\n",
    "         'q0':{'0':'q0','1':'q1'},\n",
    "         'q1':{'0':'q0','1':'q2'},\n",
    "         'q2':{'0':'q0','1':'d'},\n",
    "         'd':{'0':'d','1':'d'} \n",
    "     },\n",
    "     initial_state = 'q0',\n",
    "     final_states ={'d'}\n",
    " )\n",
    "set = {'11100','010101','110101010110','10101101110'}\n",
    "for s in set:\n",
    "     if(dfa.accepts_input(s)):\n",
    "         print(s)"
   ]
  },
  {
   "cell_type": "code",
   "execution_count": 2,
   "id": "d86c946f",
   "metadata": {},
   "outputs": [
    {
     "name": "stdout",
     "output_type": "stream",
     "text": [
      "111100\n",
      "00001111\n"
     ]
    }
   ],
   "source": [
    "\n",
    " # 03\n",
    "from automata.fa.dfa import DFA\n",
    "dfa = DFA(\n",
    "     states = {'q0','q1','q2','d'},\n",
    "     input_symbols = {'0','1'},\n",
    "     transitions = {\n",
    "         'q0':{'0':'q1','1':'d '},\n",
    "         'q1':{'0':'q0','1':'q2'},\n",
    "         'q2':{'0':'d','1':'q1'},\n",
    "         'd':{'0':'q2','1':'q0'} \n",
    "     },\n",
    "     initial_state = 'q0',\n",
    "     final_states ={'q0'}\n",
    " )\n",
    "set = {'111100','010101','110101010110','10101101110','00001111'}\n",
    "for s in set:\n",
    "     if(dfa.accepts_input(s)):\n",
    "         print(s)\n"
   ]
  },
  {
   "cell_type": "code",
   "execution_count": 2,
   "id": "1dce17b2",
   "metadata": {},
   "outputs": [
    {
     "name": "stdout",
     "output_type": "stream",
     "text": [
      "101\n"
     ]
    }
   ],
   "source": [
    "# 04\n",
    "from automata.fa.dfa import DFA\n",
    "dfa = DFA(\n",
    "     states = {'q0','q1','q2','d','e'},\n",
    "     input_symbols = {'0','1'},\n",
    "     transitions = {\n",
    "         'q0':{'0':'e','1':'q1'},\n",
    "         'q1':{'0':'q2','1':'e'},\n",
    "         'q2':{'0':'e','1':'d'},\n",
    "         'd':{'0':'e','1':'e'},\n",
    "         'e':{'0':'e','1':'e'} \n",
    "     },\n",
    "     initial_state = 'q0',\n",
    "     final_states ={'d'}\n",
    " )\n",
    "set = {'11100','101','110101010110','10101101110'}\n",
    "for s in set:\n",
    "     if(dfa.accepts_input(s)):\n",
    "         print(s)"
   ]
  },
  {
   "cell_type": "code",
   "execution_count": 3,
   "id": "af6ae6de",
   "metadata": {},
   "outputs": [
    {
     "name": "stdout",
     "output_type": "stream",
     "text": [
      "10101101110\n",
      "11100\n",
      "110101010110\n"
     ]
    }
   ],
   "source": [
    "\n",
    "# 05\n",
    "from automata.fa.dfa import DFA\n",
    "dfa = DFA(\n",
    "     states = {'q0','q1','q2','d'},\n",
    "     input_symbols = {'0','1'},\n",
    "     transitions = {\n",
    "         'q0':{'0':'d','1':'q1'},\n",
    "         'q1':{'0':'q2','1':'q1'},\n",
    "         'q2':{'0':'q2','1':'q1'},\n",
    "         'd':{'0':'d','1':'d'} \n",
    "     },\n",
    "     initial_state = 'q0',\n",
    "     final_states ={'q2'}\n",
    " )\n",
    "set = {'11100','010101','110101010110','10101101110'}\n",
    "for s in set:\n",
    "     if(dfa.accepts_input(s)):\n",
    "         print(s)"
   ]
  },
  {
   "cell_type": "code",
   "execution_count": 4,
   "id": "ac51672d",
   "metadata": {},
   "outputs": [
    {
     "name": "stdout",
     "output_type": "stream",
     "text": [
      "abababaaab\n"
     ]
    }
   ],
   "source": [
    "\n",
    "# 06\n",
    "from automata.fa.nfa import NFA\n",
    "nfa = NFA(\n",
    "     states = {'q0','q1','q2','d'},\n",
    "     input_symbols = {'a','b'},\n",
    "     transitions = {\n",
    "         'q0':{'a':{'q0','q1'},'b':{'q0'}},\n",
    "         'q1':{'a':{'q2'}},\n",
    "         'q2':{'b':{'d'}},\n",
    "         'd':{} \n",
    "     },\n",
    "     initial_state = 'q0',\n",
    "     final_states ={'d'}\n",
    " )\n",
    "set = {'aaaabaaba','abababaaab','abababa'}\n",
    "for s in set:\n",
    "     if(nfa.accepts_input(s)):\n",
    "         print(s)"
   ]
  },
  {
   "cell_type": "code",
   "execution_count": 5,
   "id": "4995a667",
   "metadata": {},
   "outputs": [
    {
     "name": "stdout",
     "output_type": "stream",
     "text": [
      "000101010101\n",
      "111111\n"
     ]
    }
   ],
   "source": [
    "# 07\n",
    "\n",
    "from automata.fa.nfa import NFA\n",
    "nfa = NFA(\n",
    "     states = {'q0','q1','q2','q3','q4','q5'},\n",
    "     input_symbols = {'0','1'},\n",
    "     transitions = {\n",
    "         'q0':{'':{'q1','q3'}},\n",
    "         'q1':{'0':{'q2'},'1':{'q1'}},\n",
    "         'q2':{'0':{'q1'},'1':{'q2'}},\n",
    "         'q3':{'0':{'q3'},'1':{'q5'}},\n",
    "         'q4':{'0':{'q4'},'1':{'q3'}},\n",
    "         'q5':{'0':{'q5'},'1':{'q4'}}\n",
    "     },\n",
    "     initial_state = 'q0',\n",
    "     final_states ={'q2','q3'}\n",
    " )\n",
    "set = {'000101010101','101010101','111111'}\n",
    "for s in set:\n",
    "     if(nfa.accepts_input(s)):\n",
    "         print(s)\n"
   ]
  },
  {
   "cell_type": "code",
   "execution_count": 6,
   "id": "1900fee3",
   "metadata": {},
   "outputs": [
    {
     "name": "stdout",
     "output_type": "stream",
     "text": [
      "aaaaaa\n",
      "abababab\n"
     ]
    }
   ],
   "source": [
    "# 08\n",
    "\n",
    "from automata.fa.nfa import NFA\n",
    "nfa = NFA(\n",
    "     states = {'q0','q1','q2','q3','q4'},\n",
    "     input_symbols = {'a','b'},\n",
    "     transitions = {\n",
    "         'q0':{'a':{'q1','q3'}},\n",
    "         'q1':{'b':{'q2'}},\n",
    "         'q2':{'b':{'q4'},'a':{'q1'}},\n",
    "         'q3':{'a':{'q3'}},\n",
    "         'q4':{'a':{'q2'}}\n",
    "     },\n",
    "     initial_state = 'q0',\n",
    "     final_states ={'q2','q3'}\n",
    " )\n",
    "set = {'aaaabaaba','abababab','aaaaaa'}\n",
    "for s in set:\n",
    "     if(nfa.accepts_input(s)):\n",
    "         print(s)"
   ]
  },
  {
   "cell_type": "code",
   "execution_count": 3,
   "id": "48697c66",
   "metadata": {},
   "outputs": [
    {
     "name": "stdout",
     "output_type": "stream",
     "text": [
      "ababaaab\n",
      "ababababab\n"
     ]
    }
   ],
   "source": [
    "\n",
    "# 09\n",
    "\n",
    "from automata.fa.nfa import NFA\n",
    "nfa = NFA(\n",
    "    states = {'q0','q1','q2'},\n",
    "    input_symbols = {'a','b'},\n",
    "    transitions = {\n",
    "        'q0':{'a':{'q0','q1'},'b':{'q0'}},\n",
    "        'q1':{'b':{'q2'}},\n",
    "        'q2':{}\n",
    "        \n",
    "        \n",
    "    },\n",
    "    initial_state = 'q0',\n",
    "    final_states ={'q2'}\n",
    ")\n",
    "set = {'ababababab','aaaa','ababaaab'}\n",
    "for s in set:\n",
    "    if(nfa.accepts_input(s)):\n",
    "        print(s)"
   ]
  },
  {
   "cell_type": "code",
   "execution_count": 8,
   "id": "8cb0a135",
   "metadata": {},
   "outputs": [
    {
     "name": "stdout",
     "output_type": "stream",
     "text": [
      "010\n"
     ]
    }
   ],
   "source": [
    "\n",
    " # 10\n",
    "\n",
    "from automata.fa.nfa import NFA\n",
    "nfa = NFA(\n",
    "     states = {'q0','q1','q2','q3','q4'},\n",
    "     input_symbols = {'0','1'},\n",
    "     transitions = {\n",
    "         'q0':{'0':{'q1','q3'}},\n",
    "         'q1':{'1':{'q2'}},\n",
    "         'q2':{'0':{'q1','q3'}},\n",
    "         'q3':{'1':{'q4'}},\n",
    "         'q4':{'0':{'q2'}}\n",
    "     },\n",
    "     initial_state = 'q0',\n",
    "     final_states ={'q2'}\n",
    " )\n",
    "set = {'1010111','010','1010'}\n",
    "for s in set:\n",
    "     if(nfa.accepts_input(s)):\n",
    "         print(s)\n"
   ]
  },
  {
   "cell_type": "code",
   "execution_count": null,
   "id": "9faee2db",
   "metadata": {},
   "outputs": [],
   "source": []
  }
 ],
 "metadata": {
  "kernelspec": {
   "display_name": "Python 3 (ipykernel)",
   "language": "python",
   "name": "python3"
  },
  "language_info": {
   "codemirror_mode": {
    "name": "ipython",
    "version": 3
   },
   "file_extension": ".py",
   "mimetype": "text/x-python",
   "name": "python",
   "nbconvert_exporter": "python",
   "pygments_lexer": "ipython3",
   "version": "3.9.18"
  }
 },
 "nbformat": 4,
 "nbformat_minor": 5
}
