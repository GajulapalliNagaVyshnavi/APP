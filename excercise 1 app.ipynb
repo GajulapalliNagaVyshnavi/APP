{
 "cells": [
  {
   "cell_type": "code",
   "execution_count": 2,
   "id": "cf7fab15",
   "metadata": {},
   "outputs": [
    {
     "name": "stdout",
     "output_type": "stream",
     "text": [
      "1000,1005,1010,1015,1020,1025,1030,1035,1040,1045,1050,1055,1060,1065,1070,1075,1080,1085,1090,1095,1100,1105,1110,1115,1120,1125,1130,1135,1140,1145,1150,1155,1160,1165,1170,1175,1180,1185,1190,1195,1200,1205,1210,1215,1220,1225,1230,1235,1240,1245,1250,1255,1260,1265,1270,1275,1280,1285,1290,1295,1300,1305,1310,1315,1320,1325,1330,1335,1340,1345,1350,1355,1360,1365,1370,1375,1380,1385,1390,1395,1400,1405,1410,1415,1420,1425,1430,1435,1440,1445,1450,1455,1460,1465,1470,1475,1480,1485,1490,1495,1500,1505,1510,1515,1520,1525,1530,1535,1540,1545,1550,1555,1560,1565,1570,1575,1580,1585,1590,1595,1600,1605,1610,1615,1620,1625,1630,1635,1640,1645,1650,1655,1660,1665,1670,1675,1680,1685,1690,1695,1700,1705,1710,1715,1720,1725,1730,1735,1740,1745,1750,1755,1760,1765,1770,1775,1780,1785,1790,1795,1800,1805,1810,1815,1820,1825,1830,1835,1840,1845,1850,1855,1860,1865,1870,1875,1880,1885,1890,1895,1900,1905,1910,1915,1920,1925,1930,1935,1940,1945,1950,1955,1960,1965,1970,1975,1980,1985,1990,1995,"
     ]
    }
   ],
   "source": [
    "for i in range(1000,2000):\n",
    "    if i%5==0 & i%8==0:\n",
    "         print(i,end=',');\n"
   ]
  },
  {
   "cell_type": "code",
   "execution_count": 3,
   "id": "fac3ed25",
   "metadata": {},
   "outputs": [
    {
     "name": "stdout",
     "output_type": "stream",
     "text": [
      "Your Guess8\n",
      "Well gessed!\n"
     ]
    }
   ],
   "source": [
    "import random\n",
    "a=random.randint(0,9)\n",
    "n= int(input(\"Your Guess\"))\n",
    "if a==n:\n",
    "        print(\"Wrong guessed\")\n",
    "else:\n",
    "        print(\"Well gessed!\")\n"
   ]
  },
  {
   "cell_type": "code",
   "execution_count": 11,
   "id": "4b18a8e7",
   "metadata": {},
   "outputs": [
    {
     "name": "stdout",
     "output_type": "stream",
     "text": [
      "\n",
      "* \n",
      "* * \n",
      "* * * \n",
      "* * * * \n",
      "* * * * * \n",
      "* * * * \n",
      "* * * \n",
      "* * \n",
      "* \n"
     ]
    }
   ],
   "source": [
    "n=5;\n",
    "for i in range(n):\n",
    "    for j in range(i):\n",
    "        print ('* ', end=\"\")\n",
    "    print('')\n",
    "\n",
    "for i in range(n,0,-1):\n",
    "    for j in range(i):\n",
    "        print('* ', end=\"\")\n",
    "    print('')\n"
   ]
  },
  {
   "cell_type": "code",
   "execution_count": 13,
   "id": "c7a16bc0",
   "metadata": {},
   "outputs": [
    {
     "name": "stdout",
     "output_type": "stream",
     "text": [
      "Input a word to reverse: vyshnavi\n",
      "ivanhsyv\n",
      "\n"
     ]
    }
   ],
   "source": [
    "word = input(\"Input a word to reverse: \")\n",
    "for char in range(len(word) - 1, -1, -1):\n",
    "        print(word[char], end=\"\")\n",
    "print(\"\\n\")\n"
   ]
  },
  {
   "cell_type": "code",
   "execution_count": 14,
   "id": "25441a25",
   "metadata": {},
   "outputs": [
    {
     "name": "stdout",
     "output_type": "stream",
     "text": [
      "Input number of rows: 3\n",
      "Input number of columns: 4\n",
      "[[0, 0, 0, 0], [0, 1, 2, 3], [0, 2, 4, 6]]\n"
     ]
    }
   ],
   "source": [
    "row_num = int(input(\"Input number of rows: \"))\n",
    "col_num = int(input(\"Input number of columns: \"))\n",
    "multi_list = [[0 for col in range(col_num)] for row in range(row_num)]\n",
    "for row in range(row_num):\n",
    "     for col in range(col_num):\n",
    "        multi_list[row][col]= row*col\n",
    "print(multi_list)"
   ]
  },
  {
   "cell_type": "code",
   "execution_count": 37,
   "id": "384dbecc",
   "metadata": {},
   "outputs": [
    {
     "name": "stdout",
     "output_type": "stream",
     "text": [
      "Input a stringA B C 1 2 3 \n",
      "Letters 3\n",
      "Digits 3\n"
     ]
    }
   ],
   "source": [
    "s = input(\"Input a string\")\n",
    "d=l=0\n",
    "for c in s:\n",
    "    if c.isdigit():\n",
    "        d=d+1\n",
    "    elif c.isalpha():\n",
    "        l=l+1\n",
    "    else:\n",
    "        pass\n",
    "print(\"Letters\", l)\n",
    "print(\"Digits\", d)"
   ]
  },
  {
   "cell_type": "code",
   "execution_count": 39,
   "id": "c138d632",
   "metadata": {},
   "outputs": [
    {
     "name": "stdout",
     "output_type": "stream",
     "text": [
      "Valid Password\n"
     ]
    }
   ],
   "source": [
    "import re\n",
    "password = \"R@m@_f0rtu9e$\"\n",
    "flag = 0\n",
    "while True:  \n",
    "    if (len(password)<8):\n",
    "        flag = -1\n",
    "        break\n",
    "    elif not re.search(\"[a-z]\", password):\n",
    "        flag = -1\n",
    "        break\n",
    "    elif not re.search(\"[A-Z]\", password):\n",
    "        flag = -1\n",
    "        break\n",
    "    elif not re.search(\"[0-9]\", password):\n",
    "        flag = -1\n",
    "        break\n",
    "    elif not re.search(\"[_@$]\", password):\n",
    "        flag = -1\n",
    "        break\n",
    "    elif re.search(\"\\s\", password):\n",
    "        flag = -1\n",
    "        break\n",
    "    else:\n",
    "        flag = 0\n",
    "        print(\"Valid Password\")\n",
    "        break\n",
    "  \n",
    "if flag ==-1:\n",
    "    print(\"Not a Valid Password\")"
   ]
  },
  {
   "cell_type": "code",
   "execution_count": 42,
   "id": "d3e7ccc0",
   "metadata": {},
   "outputs": [
    {
     "name": "stdout",
     "output_type": "stream",
     "text": [
      "200,202,204,206,208,220,222,224,226,228,240,242,244,246,248,260,262,264,266,268,280,282,284,286,288,400\n"
     ]
    }
   ],
   "source": [
    "items = []\n",
    "for i in range(100, 401):\n",
    "    s = str(i)\n",
    "    if (int(s[0])%2==0) and (int(s[1])%2==0) and (int(s[2])%2==0):\n",
    "        items.append(s)\n",
    "print( \",\".join(items))\n",
    "\n"
   ]
  },
  {
   "cell_type": "code",
   "execution_count": 44,
   "id": "968200a0",
   "metadata": {},
   "outputs": [
    {
     "name": "stdout",
     "output_type": "stream",
     "text": [
      "List of months: January, February, March, April, May, June, July, August, September, October, November, December\n",
      "Input the name of Month: March\n",
      "No. of days: 31 day\n"
     ]
    }
   ],
   "source": [
    "print(\"List of months: January, February, March, April, May, June, July, August, September, October, November, December\")\n",
    "month_name = input(\"Input the name of Month: \")\n",
    "\n",
    "if month_name == \"February\":\n",
    "    print(\"No. of days: 28/29 days\")\n",
    "elif month_name in (\"April\", \"June\", \"September\", \"November\"):\n",
    "    print(\"No. of days: 30 days\")\n",
    "elif month_name in (\"January\", \"March\", \"May\", \"July\", \"August\", \"October\", \"December\"):\n",
    "    print(\"No. of days: 31 day\")\n",
    "else:\n",
    "    print(\"Wrong month name\") "
   ]
  },
  {
   "cell_type": "code",
   "execution_count": 45,
   "id": "ccdf7b56",
   "metadata": {},
   "outputs": [
    {
     "name": "stdout",
     "output_type": "stream",
     "text": [
      "Enter 1st no.3\n",
      "Enter 2nd no.5\n",
      "8\n"
     ]
    }
   ],
   "source": [
    "x=int(input(\"Enter 1st no.\"))\n",
    "y=int(input(\"Enter 2nd no.\"))\n",
    "sum1= x + y\n",
    "if sum1 in range(105,200):\n",
    "    print(\"200\")\n",
    "else:\n",
    "    print(sum1)\n"
   ]
  },
  {
   "cell_type": "code",
   "execution_count": 47,
   "id": "b503dc7d",
   "metadata": {},
   "outputs": [
    {
     "name": "stdout",
     "output_type": "stream",
     "text": [
      "999999999\n",
      "88888888\n",
      "7777777\n",
      "666666\n",
      "55555\n",
      "4444\n",
      "333\n",
      "22\n",
      "1\n"
     ]
    }
   ],
   "source": [
    "for i in range(9,0,-1):\n",
    "    print(str(i) * i)"
   ]
  },
  {
   "cell_type": "code",
   "execution_count": 48,
   "id": "f70e519b",
   "metadata": {},
   "outputs": [
    {
     "name": "stdout",
     "output_type": "stream",
     "text": [
      "**\n",
      "***\n",
      "******\n",
      "*****\n"
     ]
    }
   ],
   "source": [
    "def histogram( items ):\n",
    "    for n in items:\n",
    "        output = ''\n",
    "        times = n\n",
    "        while( times > 0 ):\n",
    "          output += '*'\n",
    "          times = times - 1\n",
    "        print(output)\n",
    "\n",
    "histogram([2, 3, 6, 5])"
   ]
  },
  {
   "cell_type": "code",
   "execution_count": 18,
   "id": "355f801e",
   "metadata": {},
   "outputs": [
    {
     "name": "stdout",
     "output_type": "stream",
     "text": [
      "1st number: 2\n",
      "2nd number: 5\n",
      "False\n"
     ]
    }
   ],
   "source": [
    "def test_number5(x, y):\n",
    "    if x == y or abs(x-y) == 5 or (x+y) == 5:\n",
    "        return True\n",
    "    else:\n",
    "        return False\n",
    "a=int(input(\"1st number: \"))\n",
    "b=int(input(\"2nd number: \"))\n",
    "print(test_number5(a,b))"
   ]
  },
  {
   "cell_type": "code",
   "execution_count": 52,
   "id": "efce4b87",
   "metadata": {},
   "outputs": [
    {
     "name": "stdout",
     "output_type": "stream",
     "text": [
      "Enter x1: 2\n",
      "Enter y1: 3\n",
      "Enter x2: -2\n",
      "Enter y1: -3\n",
      "4.47213595499958\n"
     ]
    }
   ],
   "source": [
    "import math\n",
    "x1=int(input(\"Enter x1: \"))\n",
    "y1=int(input(\"Enter y1: \"))\n",
    "x2=int(input(\"Enter x2: \"))\n",
    "y2=int(input(\"Enter y1: \"))\n",
    "p1 = [x1, y1]\n",
    "p2 = [x2, y2]\n",
    "distance = math.sqrt( ((p1[0]-p2[0])*2)+((p1[1]-p2[1])*2) )\n",
    "print(distance)"
   ]
  },
  {
   "cell_type": "code",
   "execution_count": 53,
   "id": "e51357cf",
   "metadata": {},
   "outputs": [
    {
     "name": "stdout",
     "output_type": "stream",
     "text": [
      "Enter number: 1234\n",
      "True\n"
     ]
    }
   ],
   "source": [
    "def test_distinct(data):\n",
    "    if len(data) == len(set(data)):\n",
    "        return True\n",
    "    else:\n",
    "        return False;\n",
    "num=int(input(\"Enter number: \"))\n",
    "res = [int(x) for x in str(num)]\n",
    "print(test_distinct(res))"
   ]
  },
  {
   "cell_type": "code",
   "execution_count": 78,
   "id": "d18b4d26",
   "metadata": {},
   "outputs": [
    {
     "name": "stdout",
     "output_type": "stream",
     "text": [
      "Enter number: 69\n",
      "1\n"
     ]
    }
   ],
   "source": [
    "def repeat_times(n):\n",
    "    s = 0\n",
    "    n_str = str(n)\n",
    "    while (n > 0):\n",
    "            n -= sum([int(i) for i in list(n_str)])\n",
    "            n_str = list(str(n))\n",
    "            s += 1\n",
    "            return s\n",
    "z=int(input(\"Enter number: \"))\n",
    "print(repeat_times(z))\n"
   ]
  },
  {
   "cell_type": "code",
   "execution_count": 90,
   "id": "5547cf6e",
   "metadata": {},
   "outputs": [
    {
     "name": "stdout",
     "output_type": "stream",
     "text": [
      "Enter number: 9346901074\n",
      "[2, 5, 8]\n"
     ]
    }
   ],
   "source": [
    "def absent_digits(n):\n",
    "    all_nums = set([0,1,2,3,4,5,6,7,8,9])\n",
    "    n = set([int(i) for i in n])\n",
    "    n = n.symmetric_difference(all_nums)\n",
    "    n = sorted(n)\n",
    "    return n\n",
    "num=int(input(\"Enter number: \"))\n",
    "res = [int(x) for x in str(num)]\n",
    "print(absent_digits(res))"
   ]
  },
  {
   "cell_type": "code",
   "execution_count": 19,
   "id": "f933a1cd",
   "metadata": {},
   "outputs": [
    {
     "name": "stdout",
     "output_type": "stream",
     "text": [
      "5885\n"
     ]
    }
   ],
   "source": [
    "def rev_number(n):\n",
    "  s = 0\n",
    "  while True:\n",
    "    k = str(n)\n",
    "    if k == k[::-1]:\n",
    "      break\n",
    "    else:\n",
    "      m = int(k[::-1])\n",
    "      n += m\n",
    "      s += 1\n",
    "  return n \n",
    "\n",
    "print(rev_number(1354))"
   ]
  },
  {
   "cell_type": "code",
   "execution_count": 104,
   "id": "2795505b",
   "metadata": {},
   "outputs": [
    {
     "name": "stdout",
     "output_type": "stream",
     "text": [
      "Input third term of the series:3\n",
      "Input 3rd last term:4\n",
      "Sum of the series:21\n",
      "Length of the series:  6\n",
      "Series:\n",
      "1 2 3 4 5 6 "
     ]
    }
   ],
   "source": [
    "tn = int(input(\"Input third term of the series:\"))\n",
    "tltn = int(input(\"Input 3rd last term:\"))\n",
    "s_sum = int(input(\"Sum of the series:\"))\n",
    "n = int(2*s_sum/(tn+tltn))\n",
    "print(\"Length of the series: \",n)\n",
    "\n",
    "\n",
    "if n-5==0:\n",
    "  d = (s_sum-3*tn)//6\n",
    "else:\n",
    "  d = (tltn-tn)/(n-5)\n",
    "\n",
    "a = tn-2*d\n",
    "j = 0\n",
    "print(\"Series:\")\n",
    "for j in range(n-1):\n",
    "  print(int(a),end=\" \")\n",
    "  a+=d\n",
    "print(int(a),end=\" \")"
   ]
  }
 ],
 "metadata": {
  "kernelspec": {
   "display_name": "Python 3 (ipykernel)",
   "language": "python",
   "name": "python3"
  },
  "language_info": {
   "codemirror_mode": {
    "name": "ipython",
    "version": 3
   },
   "file_extension": ".py",
   "mimetype": "text/x-python",
   "name": "python",
   "nbconvert_exporter": "python",
   "pygments_lexer": "ipython3",
   "version": "3.9.18"
  }
 },
 "nbformat": 4,
 "nbformat_minor": 5
}
