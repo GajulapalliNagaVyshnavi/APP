{
 "cells": [
  {
   "cell_type": "code",
   "execution_count": 1,
   "id": "d028bb7f",
   "metadata": {},
   "outputs": [
    {
     "name": "stdout",
     "output_type": "stream",
     "text": [
      "True\n",
      "False\n",
      "False\n",
      "False\n",
      "True\n",
      "False\n",
      "False\n",
      "False\n",
      "\n",
      "Check whether the said classes are subclasses of the built-in object class or not.\n",
      "True\n",
      "True\n",
      "True\n",
      "True\n"
     ]
    }
   ],
   "source": [
    "class CTECH:\n",
    "    pass \n",
    "class CINTEL:\n",
    "    pass \n",
    "class NWC:\n",
    "    pass \n",
    "\n",
    "class DSBS:\n",
    "    pass \n",
    "\n",
    "student1 = CTECH()\n",
    "marks1 = CINTEL()\n",
    "stu=NWC()\n",
    "ma=DSBS()\n",
    "\n",
    "print(isinstance(student1, CTECH))\n",
    "print(isinstance(marks1, CTECH))\n",
    "print(isinstance(stu, CTECH))\n",
    "print(isinstance(ma, CTECH))\n",
    "\n",
    "print(isinstance(marks1, CINTEL)) \n",
    "print(isinstance(student1, CINTEL))\n",
    "print(isinstance(stu, CINTEL))\n",
    "print(isinstance(ma, CINTEL))\n",
    "\n",
    "print(\"\\nCheck whether the said classes are subclasses of the built-in object class or not.\")\n",
    "print(issubclass(CTECH, object))\n",
    "print(issubclass(CINTEL, object))\n",
    "print(issubclass(NWC, object))\n",
    "print(issubclass(DSBS, object))\n",
    "\n",
    "\n",
    " \n"
   ]
  },
  {
   "cell_type": "code",
   "execution_count": 7,
   "id": "28fcfe1d",
   "metadata": {},
   "outputs": [
    {
     "name": "stdout",
     "output_type": "stream",
     "text": [
      "Enter the first side of the triangle : 3\n",
      "Enter the second side of the triangle : 4\n",
      "Enter the third side of the triangle : 5\n",
      "The perimeter of the triangle is : 12.00\n",
      "The area of the triangle is : 6.00\n"
     ]
    }
   ],
   "source": [
    "class Triangle:\n",
    "    def findPerimeter(self, s1, s2, s3):\n",
    "        return (s1 + s2 + s3)\n",
    "\n",
    "    def findArea(self, s1, s2, s3):\n",
    "        p = (s1 + s2 + s3)\n",
    "        s = p/2\n",
    "        return (s * (s-s1) * (s-s2)*(s-s3))**0.5\n",
    "\n",
    "\n",
    "s1 = float(input(\"Enter the first side of the triangle : \"))\n",
    "s2 = float(input(\"Enter the second side of the triangle : \"))\n",
    "s3 = float(input(\"Enter the third side of the triangle : \"))\n",
    "\n",
    "u = Triangle()\n",
    "\n",
    "print(\"The perimeter of the triangle is : {0:.2f}\".format (\n",
    "    u.findPerimeter(s1, s2, s3)))\n",
    "print(\"The area of the triangle is : {0:.2f}\".format(u.findArea(s1, s2, s3)))"
   ]
  },
  {
   "cell_type": "code",
   "execution_count": 1,
   "id": "88625da1",
   "metadata": {},
   "outputs": [
    {
     "name": "stdout",
     "output_type": "stream",
     "text": [
      "Original attributes and their values of the Student class:\n",
      "school -> SRMIST\n",
      "dept1 -> Computer Science\n",
      "dept2 -> Artificial Intelligence\n",
      "dept3 -> Mechanical Engineering\n",
      "dept4 -> Biotech\n",
      "\n",
      "After adding the specialization, attributes and their values with the said class:\n",
      "school -> SRMIST\n",
      "dept1 -> Computer Science\n",
      "dept2 -> Artificial Intelligence\n",
      "dept3 -> Mechanical Engineering\n",
      "dept4 -> Biotech\n",
      "specialization -> Blockchain\n",
      "\n",
      "After removing the dept1,dept2 attributes and their values from the said class:\n",
      "school -> SRMIST\n",
      "dept3 -> Mechanical Engineering\n",
      "dept4 -> Biotech\n",
      "specialization -> Blockchain\n"
     ]
    }
   ],
   "source": [
    "class SRMIST:\n",
    "    school = 'SRMIST'\n",
    "    dept1 = 'Computer Science'\n",
    "    dept2 = 'Artificial Intelligence'\n",
    "    dept3 = 'Mechanical Engineering'\n",
    "    dept4 = 'Biotech'\n",
    "print(\"Original attributes and their values of the Student class:\")\n",
    "for attr, value in SRMIST.__dict__.items():\n",
    "    if not attr.startswith('_'):\n",
    "        print(f'{attr} -> {value}')\n",
    "print(\"\\nAfter adding the specialization, attributes and their values with the said class:\")\n",
    "SRMIST.specialization  = 'Blockchain'\n",
    "for attr, value in SRMIST.__dict__.items():\n",
    "    if not attr.startswith('_'):\n",
    "        print(f'{attr} -> {value}')\n",
    "print(\"\\nAfter removing the dept1,dept2 attributes and their values from the said class:\")\n",
    "del SRMIST.dept1\n",
    "del SRMIST.dept2\n",
    "#delattr(Student, 'student_name')\n",
    "for attr, value in SRMIST.__dict__.items():\n",
    "    if not attr.startswith('_'):\n",
    "        print(f'{attr} -> {value}')\n",
    "\n"
   ]
  },
  {
   "cell_type": "code",
   "execution_count": 4,
   "id": "2260f35b",
   "metadata": {},
   "outputs": [
    {
     "name": "stdout",
     "output_type": "stream",
     "text": [
      "SCO\n",
      "CSE\n"
     ]
    }
   ],
   "source": [
    "class Dept:\n",
    "    def __init__(self, *args): \n",
    "        if len(args) == 1: \n",
    "            self.dept=args[0] \n",
    "\n",
    "        elif len(args) == 0: \n",
    "            self.dept=\"SCO\" \n",
    "    \n",
    "    def deptname(self):\n",
    "        print(self.dept)\n",
    "    \n",
    "\n",
    "d1=Dept()\n",
    "d1.deptname()\n",
    "\n",
    "d2=Dept(\"CSE\")\n",
    "d2.deptname()\n"
   ]
  },
  {
   "cell_type": "code",
   "execution_count": 6,
   "id": "e0c9d8ce",
   "metadata": {},
   "outputs": [
    {
     "name": "stdout",
     "output_type": "stream",
     "text": [
      "50\n",
      "100\n",
      "0\n"
     ]
    }
   ],
   "source": [
    "class rectangle: \n",
    "    length=0  \n",
    "    breadth=0 \n",
    "    def __init__(self, *args): \n",
    "        if len(args) == 2: \n",
    "            self.length=args[0]; \n",
    "            self.breadth=args[1] \n",
    "        elif len(args) == 1: \n",
    "            self.length=args[0] \n",
    "            self.breadth=args[0] \n",
    "        else: \n",
    "            self.length=0 \n",
    "            self.breadth=0 \n",
    "    def area(self): \n",
    "        return self.length*self.breadth;     \n",
    "r1=rectangle(5,10) \n",
    "print(r1.area()) \n",
    "r2=rectangle(10) \n",
    "print(r2.area()) \n",
    "r3=rectangle() \n",
    "print(r3.area())\n"
   ]
  },
  {
   "cell_type": "code",
   "execution_count": 9,
   "id": "43f0068f",
   "metadata": {},
   "outputs": [
    {
     "name": "stdout",
     "output_type": "stream",
     "text": [
      "[1, 2, 3]\n",
      "('a', [8, 4, 6], 'mouse')\n",
      "amit\n"
     ]
    }
   ],
   "source": [
    "class PrintDT:\n",
    "    def py_data(self,list):\n",
    "        self.list=[]\n",
    "        print(self.list)\n",
    "        \n",
    "    def py_data(self,tuple):\n",
    "        self.tuple=()\n",
    "        print(tuple)\n",
    "        \n",
    "    def py_data(self,str):\n",
    "        self.str=''\n",
    "        print(str)\n",
    "        \n",
    "p=PrintDT()\n",
    "p.py_data([1,2,3])\n",
    "p.py_data(('a',[8,4,6],\"mouse\"))\n",
    "p.py_data('amit')\n"
   ]
  },
  {
   "cell_type": "code",
   "execution_count": 10,
   "id": "8b71caf2",
   "metadata": {},
   "outputs": [
    {
     "name": "stdout",
     "output_type": "stream",
     "text": [
      "15000\n",
      "30000\n",
      "40000\n"
     ]
    }
   ],
   "source": [
    "class Banks_SRMIST:\n",
    "    def getBalance():\n",
    "        return 0\n",
    "class CUB(Banks_SRMIST):\n",
    "    \n",
    "    def getBalance(balance):\n",
    "         return balance\n",
    "class HDFC(Banks_SRMIST):\n",
    "    \n",
    "    def getBalance(balance):\n",
    "        return balance\n",
    "class Indian_Bank(Banks_SRMIST):\n",
    "    \n",
    "    def getBalance(balance):\n",
    "        return balance\n",
    "Banks_SRMIST()\n",
    "print(CUB.getBalance(15000))\n",
    "print(HDFC.getBalance(30000))\n",
    "print(Indian_Bank.getBalance(40000))\n"
   ]
  },
  {
   "cell_type": "code",
   "execution_count": 12,
   "id": "1a5388df",
   "metadata": {},
   "outputs": [
    {
     "name": "stdout",
     "output_type": "stream",
     "text": [
      "Time is 5 hours and 10 minutes.\n",
      "310\n"
     ]
    }
   ],
   "source": [
    "class Time():\n",
    "\n",
    "  def __init__(self, hours, mins):\n",
    "    self.hours = hours\n",
    "    self.mins = mins\n",
    "\n",
    "  def addTime(t1, t2):\n",
    "    t3 = Time(0,0)\n",
    "    if t1.mins+t2.mins > 60:\n",
    "      t3.hours = (t1.mins+t2.mins)//60\n",
    "    t3.hours = t3.hours+t1.hours+t2.hours\n",
    "    t3.mins = (t1.mins + t2.mins) % 60\n",
    "    return t3\n",
    "\n",
    "  def displayTime(self):\n",
    "    print (\"Time is\",self.hours,\"hours and\",self.mins,\"minutes.\")\n",
    "\n",
    "  def displayMinute(self):\n",
    "    print ((self.hours*60)+self.mins)\n",
    "\n",
    "a = Time(2,40)\n",
    "b = Time(1,30)\n",
    "c = Time.addTime(a,b)\n",
    "c.displayTime()\n",
    "c.displayMinute()\n",
    "\n"
   ]
  },
  {
   "cell_type": "code",
   "execution_count": null,
   "id": "64fb4780",
   "metadata": {},
   "outputs": [],
   "source": []
  }
 ],
 "metadata": {
  "kernelspec": {
   "display_name": "Python 3 (ipykernel)",
   "language": "python",
   "name": "python3"
  },
  "language_info": {
   "codemirror_mode": {
    "name": "ipython",
    "version": 3
   },
   "file_extension": ".py",
   "mimetype": "text/x-python",
   "name": "python",
   "nbconvert_exporter": "python",
   "pygments_lexer": "ipython3",
   "version": "3.9.18"
  }
 },
 "nbformat": 4,
 "nbformat_minor": 5
}
