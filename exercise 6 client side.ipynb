{
 "cells": [
  {
   "cell_type": "code",
   "execution_count": 1,
   "id": "cf06ab93",
   "metadata": {},
   "outputs": [
    {
     "name": "stdout",
     "output_type": "stream",
     "text": [
      "mahesh\n"
     ]
    }
   ],
   "source": [
    "#i client:\n",
    "import socket\n",
    "c=socket.socket()\n",
    "c.connect(('localhost',10321))\n",
    "print(c.recv(1024).decode())"
   ]
  },
  {
   "cell_type": "code",
   "execution_count": 1,
   "id": "e952372a",
   "metadata": {},
   "outputs": [
    {
     "name": "stdout",
     "output_type": "stream",
     "text": [
      "Enter message please: mahesh\n",
      "MAHESH\n"
     ]
    }
   ],
   "source": [
    "#2client\n",
    "import socket\n",
    "c=socket.socket()\n",
    "c.connect(('localhost',10322))\n",
    "pw=input('Enter message please: ')\n",
    "c.send(bytes(pw,'utf-8'))\n",
    "print(c.recv(1024).decode())"
   ]
  },
  {
   "cell_type": "code",
   "execution_count": 1,
   "id": "c933f2f5",
   "metadata": {},
   "outputs": [
    {
     "name": "stdout",
     "output_type": "stream",
     "text": [
      "Enter message please: ping\n",
      "pong\n",
      "ping\n",
      "pong\n",
      "mahesh\n"
     ]
    }
   ],
   "source": [
    "#3client\n",
    "\n",
    "import socket\n",
    "c=socket.socket()\n",
    "c.connect(('localhost',10323))\n",
    "pw=input('Enter message please: ')\n",
    "while(pw=='ping'):\n",
    "    c.send(bytes(pw,'utf-8'))\n",
    "    print(c.recv(1024).decode())\n",
    "    pw=input()"
   ]
  },
  {
   "cell_type": "code",
   "execution_count": null,
   "id": "2e3ce92b",
   "metadata": {},
   "outputs": [],
   "source": [
    "import socket\n",
    "import threading\n",
    "\n",
    "IP = socket.gethostbyname(socket.gethostname())\n",
    "PORT = 5564\n",
    "ADDR = (IP,PORT)\n",
    "SIZE = 1024\n",
    "FORMAT = \"utf-8\"\n",
    "DISCONNECT_MSG = \"!DISCONNECT\"\n",
    "\n",
    "def main():\n",
    "    client = socket.socket(socket.AF_INET,socket.SOCK_STREAM)\n",
    "    client.connect(ADDR)\n",
    "    print(f\"[CONNECTED] Client connected to server at {IP}:{PORT}\")\n",
    "    connected = True\n",
    "    while connected:\n",
    "        msg = input(\"> \")\n",
    "        client.send(msg.encode(FORMAT))\n",
    "        if msg == DISCONNECT_MSG:\n",
    "            connected = False\n",
    "        else:\n",
    "            msg = client.recv(SIZE).decode(FORMAT)\n",
    "            print(f\"[SERVER] {msg}\")\n",
    "        \n",
    "main()"
   ]
  },
  {
   "cell_type": "code",
   "execution_count": null,
   "id": "b2ef00a2",
   "metadata": {},
   "outputs": [],
   "source": [
    "from socket import *\n",
    "server_name = 'localhost'\n",
    "server_port = 1242\n",
    "client_socket = socket(AF_INET, SOCK_STREAM)\n",
    "client_socket.connect((server_name,server_port))\n",
    "\n",
    "while True:\n",
    "  sentence = input(\">> \")\n",
    "  client_socket.send(sentence.encode())\n",
    "  message = client_socket.recv(2048)\n",
    "  print (\">> \", message.decode())\n",
    "  if(sentence == 'q'):\n",
    "    client_socket.close()"
   ]
  },
  {
   "cell_type": "code",
   "execution_count": null,
   "id": "ce848352",
   "metadata": {},
   "outputs": [],
   "source": []
  }
 ],
 "metadata": {
  "kernelspec": {
   "display_name": "Python 3 (ipykernel)",
   "language": "python",
   "name": "python3"
  },
  "language_info": {
   "codemirror_mode": {
    "name": "ipython",
    "version": 3
   },
   "file_extension": ".py",
   "mimetype": "text/x-python",
   "name": "python",
   "nbconvert_exporter": "python",
   "pygments_lexer": "ipython3",
   "version": "3.9.18"
  }
 },
 "nbformat": 4,
 "nbformat_minor": 5
}
