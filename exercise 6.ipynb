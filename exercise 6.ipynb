{
 "cells": [
  {
   "cell_type": "code",
   "execution_count": null,
   "id": "58eeb679",
   "metadata": {},
   "outputs": [
    {
     "name": "stdout",
     "output_type": "stream",
     "text": [
      "Socket Created\n",
      "Waiting for connection...\n",
      "Connected to ('127.0.0.1', 52312)\n",
      "Connected to ('127.0.0.1', 52363)\n"
     ]
    }
   ],
   "source": [
    "#1 server:\n",
    "import socket\n",
    "s=socket.socket()\n",
    "print('Socket Created')\n",
    "s.bind(('localhost',10321))\n",
    "s.listen(3)\n",
    "print('Waiting for connection...')\n",
    "\n",
    "while True:\n",
    "    c,addr=s.accept()\n",
    "    print('Connected to',addr)\n",
    "    c.send(bytes('mahesh','utf-8'))\n",
    "    c.close()"
   ]
  },
  {
   "cell_type": "code",
   "execution_count": null,
   "id": "333392f8",
   "metadata": {},
   "outputs": [
    {
     "name": "stdout",
     "output_type": "stream",
     "text": [
      "Socket Created\n",
      "Waiting for connection...\n",
      "Connected to ('127.0.0.1', 52409)\n"
     ]
    }
   ],
   "source": [
    "#2 server\n",
    "import socket\n",
    "s=socket.socket()\n",
    "print('Socket Created')\n",
    "s.bind(('localhost',10322))\n",
    "s.listen(3)\n",
    "print('Waiting for connection...')\n",
    "\n",
    "while True:\n",
    "    c,addr=s.accept()\n",
    "    print('Connected to',addr)\n",
    "    pw=c.recv(1024).decode()\n",
    "    pw1=pw.upper()\n",
    "    c.send(bytes(pw1,'utf-8'))\n",
    "    c.close()"
   ]
  },
  {
   "cell_type": "code",
   "execution_count": null,
   "id": "429289cd",
   "metadata": {},
   "outputs": [
    {
     "name": "stdout",
     "output_type": "stream",
     "text": [
      "Socket Created\n",
      "Waiting for connection...\n",
      "Connected to ('127.0.0.1', 52075)\n"
     ]
    }
   ],
   "source": [
    "#3 server\n",
    "import socket\n",
    "s=socket.socket()\n",
    "print('Socket Created')\n",
    "s.bind(('localhost',10323))\n",
    "s.listen(3)\n",
    "print('Waiting for connection...')\n",
    "\n",
    "while True:\n",
    "    c,addr=s.accept()\n",
    "    print('Connected to',addr)\n",
    "    pw=c.recv(1024).decode()\n",
    "    while (pw=='ping'):\n",
    "        c.send(bytes('pong','utf-8'))\n",
    "        pw=c.recv(1024).decode()\n",
    "    c.close()"
   ]
  },
  {
   "cell_type": "code",
   "execution_count": null,
   "id": "ebf1f6ef",
   "metadata": {},
   "outputs": [
    {
     "name": "stdout",
     "output_type": "stream",
     "text": [
      "Socket Created\n",
      "Waiting for connection...\n",
      "Connected to ('127.0.0.1', 52250)\n"
     ]
    }
   ],
   "source": [
    "#3 server\n",
    "import socket\n",
    "s=socket.socket()\n",
    "print('Socket Created')\n",
    "s.bind(('localhost',10323))\n",
    "s.listen(3)\n",
    "print('Waiting for connection...')\n",
    "\n",
    "while True:\n",
    "    c,addr=s.accept()\n",
    "    print('Connected to',addr)\n",
    "    pw=c.recv(1024).decode()\n",
    "    while (pw=='ping'):\n",
    "        c.send(bytes('pong','utf-8'))\n",
    "        pw=c.recv(1024).decode()\n",
    "    c.close()"
   ]
  },
  {
   "cell_type": "code",
   "execution_count": null,
   "id": "6802bc04",
   "metadata": {},
   "outputs": [],
   "source": [
    "import socket\n",
    "import threading\n",
    "import datetime\n",
    " \n",
    "IP = socket.gethostbyname(socket.gethostname())\n",
    "PORT = 5564\n",
    "ADDR = (IP,PORT)\n",
    "SIZE = 1024\n",
    "FORMAT = \"utf-8\"\n",
    "DISCONNECT_MSG = \"!DISCONNECT\"\n",
    "\n",
    "def handle_client(conn,addr):\n",
    "    print(f\"[NEW CONNECTION] {addr} connected\")\n",
    "    msg = str(datetime.datetime.now())\n",
    "    conn.send(msg.encode(FORMAT))\n",
    "    connected = True\n",
    "    while connected:\n",
    "        msg = conn.recv(SIZE).decode(FORMAT)\n",
    "        if msg == DISCONNECT_MSG:\n",
    "            connected = False \n",
    "        print(f\"[{addr}] {msg}\")\n",
    "        msg = f\"Msg received : {msg}\"\n",
    "        conn.send(msg.encode(FORMAT))\n",
    "    conn.close()\n",
    "        \n",
    "\n",
    "\n",
    "\n",
    "\n",
    "\n",
    "\n"
   ]
  },
  {
   "cell_type": "code",
   "execution_count": null,
   "id": "d7d15ceb",
   "metadata": {},
   "outputs": [],
   "source": [
    "from socket import *\n",
    "server_port = 1242\n",
    "server_socket = socket(AF_INET,SOCK_STREAM)\n",
    "server_socket.bind(('',server_port))\n",
    "server_socket.listen(1)\n",
    "print (\"Welcome: The server is now ready to receive\")\n",
    "connection_socket, address = server_socket.accept()\n",
    "while True:\n",
    "  sentence = connection_socket.recv(2048).decode()\n",
    "  print('>> ',sentence)\n",
    "  message = input(\">> \")\n",
    "  connection_socket.send(message.encode())\n",
    "  if(message == 'q'):\n",
    "    connectionSocket.close()"
   ]
  },
  {
   "cell_type": "code",
   "execution_count": null,
   "id": "845bb14f",
   "metadata": {},
   "outputs": [],
   "source": []
  }
 ],
 "metadata": {
  "kernelspec": {
   "display_name": "Python 3 (ipykernel)",
   "language": "python",
   "name": "python3"
  },
  "language_info": {
   "codemirror_mode": {
    "name": "ipython",
    "version": 3
   },
   "file_extension": ".py",
   "mimetype": "text/x-python",
   "name": "python",
   "nbconvert_exporter": "python",
   "pygments_lexer": "ipython3",
   "version": "3.9.18"
  }
 },
 "nbformat": 4,
 "nbformat_minor": 5
}
