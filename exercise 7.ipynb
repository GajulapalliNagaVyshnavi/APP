{
 "cells": [
  {
   "cell_type": "code",
   "execution_count": 15,
   "id": "8c0e9617",
   "metadata": {},
   "outputs": [
    {
     "name": "stdout",
     "output_type": "stream",
     "text": [
      "Enter no. of elements:6\n",
      "[0, 1, 1, 2, 3, 5]\n"
     ]
    }
   ],
   "source": [
    "#1\n",
    "from functools import reduce\n",
    "  \n",
    "fib = lambda n: reduce(lambda x, _: x+[x[-1]+x[-2]],\n",
    "                                 range(n-2), [0, 1])\n",
    "a=int(input('Enter no. of elements:'))\n",
    "print(fib(a))"
   ]
  },
  {
   "cell_type": "code",
   "execution_count": 30,
   "id": "4d85beda",
   "metadata": {},
   "outputs": [
    {
     "name": "stdout",
     "output_type": "stream",
     "text": [
      "vyshu 22 5 1 7\n",
      "Original string:  vyshu 22 5 1 7\n",
      "Numbers in sorted form:\n",
      "7 22 "
     ]
    }
   ],
   "source": [
    "#2\n",
    "str1 = input()\n",
    "print(\"Original string: \",str1)\n",
    "str_num=[i for i in str1.split(' ')]\n",
    "length=len(str_num)\n",
    "numbers=sorted([int(x) for x in str_num if x.isdigit()])\n",
    "print('Numbers in sorted form:')\n",
    "for i in ((filter(lambda x:x>length,numbers))):\n",
    "    print(i,end=' ')\n"
   ]
  },
  {
   "cell_type": "code",
   "execution_count": 18,
   "id": "52086cb6",
   "metadata": {},
   "outputs": [
    {
     "name": "stdout",
     "output_type": "stream",
     "text": [
      "Original list:\n",
      "['4', '12', '45', '-12', '-500']\n",
      "\n",
      "Sorted:\n",
      "['-500', '-12', '4', '12', '45']\n"
     ]
    }
   ],
   "source": [
    "#3\n",
    "def sort_n(nums_str):\n",
    "    result = sorted(nums_str, key=lambda el: int(el))\n",
    "    return result\n",
    "nums_str = ['4','12','45','-12','-500']\n",
    "print(\"Original list:\")\n",
    "print(nums_str)\n",
    "print(\"\\nSorted:\")\n",
    "print(sort_n(nums_str))"
   ]
  },
  {
   "cell_type": "code",
   "execution_count": 19,
   "id": "f8dd620e",
   "metadata": {},
   "outputs": [
    {
     "name": "stdout",
     "output_type": "stream",
     "text": [
      "Original Tuple: \n",
      "((10, 10, 10), (30, 45, 56), (80, 80, 39))\n",
      "\n",
      "Average value of the numbers of the said tuple of tuples:\n",
      " (40.0, 45.0, 35.0)\n"
     ]
    }
   ],
   "source": [
    "#4\n",
    "def average_tuple(nums):\n",
    "    result = tuple(map(lambda x: sum(x) / float(len(x)), zip(*nums)))\n",
    "    return result\n",
    "\n",
    "nums = ((10, 10, 10), (30, 45, 56), (80, 80, 39))\n",
    "print (\"Original Tuple: \")\n",
    "print(nums)\n",
    "print(\"\\nAverage value of the numbers of the said tuple of tuples:\\n\",average_tuple(nums))"
   ]
  },
  {
   "cell_type": "code",
   "execution_count": 20,
   "id": "f9b56b9b",
   "metadata": {},
   "outputs": [
    {
     "name": "stdout",
     "output_type": "stream",
     "text": [
      "\n",
      "Intersection of said nested lists:\n",
      "[[12], [7, 11], [1, 5, 8]]\n"
     ]
    }
   ],
   "source": [
    "#5\n",
    "def internested(l1, l2):\n",
    "    result = [list(filter(lambda x: x in l1, sublist)) for sublist in l2]\n",
    "    return result\n",
    "nums1 = [1, 2, 3, 4, 5, 6, 7, 8, 9, 10, 11, 12, 13, 14]\n",
    "nums2 = [[12, 18, 23, 25, 45], [7, 11, 19, 24, 28], [1, 5, 8, 18, 15, 16]]\n",
    "print(\"\\nIntersection of said nested lists:\")\n",
    "print(internested(nums1, nums2))\n"
   ]
  },
  {
   "cell_type": "code",
   "execution_count": 21,
   "id": "a91188f2",
   "metadata": {},
   "outputs": [
    {
     "name": "stdout",
     "output_type": "stream",
     "text": [
      "List of strings:\n",
      "['Red', 'Green', 'Black', 'Orange']\n",
      "\n",
      "List of lists:\n",
      "[['R', 'e', 'd'], ['G', 'r', 'e', 'e', 'n'], ['B', 'l', 'a', 'c', 'k'], ['O', 'r', 'a', 'n', 'g', 'e']]\n"
     ]
    }
   ],
   "source": [
    "#6\n",
    "def strings_to_listOflists(str):\n",
    "    result = map(list, str)\n",
    "    return list(result)\n",
    "\n",
    "colors = [\"Red\", \"Green\", \"Black\", \"Orange\"]\n",
    "print('List of strings:')\n",
    "print(colors)\n",
    "print(\"\\nList of lists:\")\n",
    "print(strings_to_listOflists(colors))"
   ]
  },
  {
   "cell_type": "code",
   "execution_count": 23,
   "id": "4866320d",
   "metadata": {},
   "outputs": [
    {
     "name": "stdout",
     "output_type": "stream",
     "text": [
      "\n",
      "After eliminating duplicate letters:\n",
      "{('V', 'v'), ('A', 'a'), ('S', 's'), ('Y', 'y'), ('I', 'i'), ('H', 'h'), ('N', 'n')}\n"
     ]
    }
   ],
   "source": [
    "#7\n",
    "def change_cases(s):\n",
    "  return str(s).upper(), str(s).lower()\n",
    " \n",
    "chrars = \"vyshnavi\" \n",
    "result = map(change_cases, chrars)\n",
    "print(\"\\nAfter eliminating duplicate letters:\")\n",
    "print(set(result))\n"
   ]
  },
  {
   "cell_type": "code",
   "execution_count": 24,
   "id": "795c5aac",
   "metadata": {},
   "outputs": [
    {
     "name": "stdout",
     "output_type": "stream",
     "text": [
      "Original lists:\n",
      "[6, 5, 3, 9]\n",
      "[0, 1, 7, 7]\n",
      "\n",
      "Result:\n",
      "[(6, 6), (6, 4), (10, -4), (16, 2)]\n"
     ]
    }
   ],
   "source": [
    "#8\n",
    "def add_sub(x, y):\n",
    "    return x + y, x - y\n",
    " \n",
    "nums1 = [6, 5, 3, 9]\n",
    "nums2 = [0, 1, 7, 7]\n",
    "print(\"Original lists:\")\n",
    "print(nums1)\n",
    "print(nums2)\n",
    "result = map(add_sub, nums1, nums2)\n",
    "print(\"\\nResult:\")\n",
    "print(list(result))"
   ]
  },
  {
   "cell_type": "code",
   "execution_count": 25,
   "id": "89636023",
   "metadata": {},
   "outputs": [
    {
     "name": "stdout",
     "output_type": "stream",
     "text": [
      "[58, 42, 26, 95]\n"
     ]
    }
   ],
   "source": [
    "#9\n",
    "seq = [1,2,58,42,12,26,95,12,10,5]\n",
    "result = filter(lambda x: x>=18, seq)\n",
    "print(list(result))\n"
   ]
  },
  {
   "cell_type": "code",
   "execution_count": 26,
   "id": "97f4766b",
   "metadata": {},
   "outputs": [
    {
     "name": "stdout",
     "output_type": "stream",
     "text": [
      "vyshnavi\n",
      "ai\n"
     ]
    }
   ],
   "source": [
    "#10\n",
    "def pro_vowel(c):\n",
    "    newstr = c\n",
    "    vowels = ('a', 'e', 'i', 'o', 'u','A','E','I','O','U')\n",
    "    for x in c:\n",
    "        if x not in vowels:\n",
    "            newstr = newstr.replace(x,\"\")\n",
    "    return newstr\n",
    "\n",
    "a=input()\n",
    "print(pro_vowel(a))"
   ]
  },
  {
   "cell_type": "code",
   "execution_count": 27,
   "id": "7d632680",
   "metadata": {},
   "outputs": [
    {
     "name": "stdout",
     "output_type": "stream",
     "text": [
      "365 95\n"
     ]
    }
   ],
   "source": [
    "#11\n",
    "from functools import reduce\n",
    "scores = [75, 65, 80, 95, 50]\n",
    "total = reduce(lambda a, b: a + b, scores)\n",
    "print(total,max(scores))"
   ]
  },
  {
   "cell_type": "code",
   "execution_count": 28,
   "id": "c49a8458",
   "metadata": {},
   "outputs": [
    {
     "name": "stdout",
     "output_type": "stream",
     "text": [
      "Enter number to find factorial of:5\n",
      "Factorial:  120\n"
     ]
    }
   ],
   "source": [
    "#12\n",
    "import functools\n",
    "def mult(x,y):\n",
    "    return x*y\n",
    "a=int(input('Enter number to find factorial of:'))\n",
    "fact=functools.reduce(mult, range(1, a+1))\n",
    "print ('Factorial: ',fact)"
   ]
  },
  {
   "cell_type": "code",
   "execution_count": null,
   "id": "1631688d",
   "metadata": {},
   "outputs": [],
   "source": []
  },
  {
   "cell_type": "code",
   "execution_count": null,
   "id": "c0392298",
   "metadata": {},
   "outputs": [],
   "source": []
  }
 ],
 "metadata": {
  "kernelspec": {
   "display_name": "Python 3 (ipykernel)",
   "language": "python",
   "name": "python3"
  },
  "language_info": {
   "codemirror_mode": {
    "name": "ipython",
    "version": 3
   },
   "file_extension": ".py",
   "mimetype": "text/x-python",
   "name": "python",
   "nbconvert_exporter": "python",
   "pygments_lexer": "ipython3",
   "version": "3.9.18"
  }
 },
 "nbformat": 4,
 "nbformat_minor": 5
}
