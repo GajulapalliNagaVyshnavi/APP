{
 "cells": [
  {
   "cell_type": "code",
   "execution_count": 2,
   "id": "d2930fa4",
   "metadata": {},
   "outputs": [
    {
     "name": "stdout",
     "output_type": "stream",
     "text": [
      "Collecting pyDatalog\n",
      "  Downloading pyDatalog-0.17.1.zip (304 kB)\n",
      "Building wheels for collected packages: pyDatalog\n",
      "  Building wheel for pyDatalog (setup.py): started\n",
      "  Building wheel for pyDatalog (setup.py): finished with status 'done'\n",
      "  Created wheel for pyDatalog: filename=pyDatalog-0.17.1-py2.py3-none-any.whl size=74209 sha256=98efe6995155d2b6d22a4e2e4f61ebf290932b971c09a39025e58abaf8d124a7\n",
      "  Stored in directory: c:\\users\\vaishnavi\\appdata\\local\\pip\\cache\\wheels\\50\\01\\52\\05c7209d5ecfbf6bd8f2f5f8819d0fdd873b774641609e73eb\n",
      "Successfully built pyDatalog\n",
      "Installing collected packages: pyDatalog\n",
      "Successfully installed pyDatalog-0.17.1\n",
      "Note: you may need to restart the kernel to use updated packages.\n"
     ]
    }
   ],
   "source": [
    "pip install pyDatalog"
   ]
  },
  {
   "cell_type": "code",
   "execution_count": 4,
   "id": "79d94f6d",
   "metadata": {},
   "outputs": [
    {
     "name": "stdout",
     "output_type": "stream",
     "text": [
      "X | Y\n",
      "--|--\n",
      "e | d\n",
      "d | e\n",
      "c | b\n",
      "b | c\n",
      "X | Y\n",
      "--|--\n",
      "f | e\n",
      "f | d\n",
      "d | f\n",
      "e | f\n",
      "X | Y\n",
      "--|--\n",
      "f | a\n",
      "e | a\n",
      "d | a\n",
      "X | Y\n",
      "--|--\n",
      "b | a\n",
      "c | a\n",
      "d | b\n",
      "e | b\n",
      "f | c\n"
     ]
    }
   ],
   "source": [
    "#1\n",
    "from pyDatalog import pyDatalog as py\n",
    "py.create_terms(\"brother,father,cousin,grandson,descendent,X,Y,Z,W,a,b,c,d,e,f\")\n",
    "+father('a','b')\n",
    "+father('a','c')\n",
    "+father('b','d')\n",
    "+father('b','e')\n",
    "+father('c','f')\n",
    "brother(X,Y) <= (father(Z,X)) & (father(Z,Y)) & ~(X==Y)\n",
    "cousin(X,Y) <= (father(Z,X)) & (father(W,Y)) & (brother(Z,W))\n",
    "grandson(X,Y)<= (father(Y,Z)) & (father(Z,X))\n",
    "descendent(X,Y) <= (father(Y,X))\n",
    "descendent(X,Y) <= (father(Z,X)) & (descendent(Z,X))\n",
    "print(brother(X,Y))\n",
    "print(cousin(X,Y))\n",
    "print(grandson(X,Y))\n",
    "print(descendent(X,Y))"
   ]
  },
  {
   "cell_type": "code",
   "execution_count": 5,
   "id": "152e8b86",
   "metadata": {},
   "outputs": [
    {
     "name": "stdout",
     "output_type": "stream",
     "text": [
      "X   \n",
      "----\n",
      "Bear\n"
     ]
    }
   ],
   "source": [
    "from pyDatalog import pyDatalog \n",
    "pyDatalog.create_terms('Bear,Elephant,Cat,Black,Gray,Brown,Big,small,size,color,X,Y,dark')\n",
    "+size(\"Bear\",\"Big\")\n",
    "+size(\"Elephant\",\"Big\")\n",
    "+size(\"Cat\",\"small\")\n",
    "+color(\"Bear\",\"Brown\")\n",
    "+color(\"Cat\",\"Black\")\n",
    "+color(\"Elephant\",\"Gray\")\n",
    "dark(X) <= (color(X,\"Black\"))\n",
    "dark(X) <= (color(X,\"Brown\"))\n",
    "print(dark(X) &(size(X,'Big')))"
   ]
  },
  {
   "cell_type": "code",
   "execution_count": 3,
   "id": "11791a78",
   "metadata": {},
   "outputs": [
    {
     "name": "stdout",
     "output_type": "stream",
     "text": [
      "N \n",
      "--\n",
      "24\n"
     ]
    }
   ],
   "source": [
    "#3\n",
    "from pyDatalog import pyDatalog\n",
    "pyDatalog.create_terms(\"N,Factorial\")\n",
    "Factorial[N]=N*Factorial[N-1]\n",
    "Factorial[1]=1\n",
    "print(Factorial[4]==N)"
   ]
  },
  {
   "cell_type": "code",
   "execution_count": 1,
   "id": "fe90313a",
   "metadata": {},
   "outputs": [
    {
     "name": "stdout",
     "output_type": "stream",
     "text": [
      "X    \n",
      "-----\n",
      "danny\n",
      "lucy \n"
     ]
    }
   ],
   "source": [
    "from pyDatalog import pyDatalog\n",
    "\n",
    "pyDatalog.create_terms('X,Y,Z,professor,lecturer, dean')\n",
    "\n",
    "+professor('lucy')\n",
    "\n",
    "+professor('danny')\n",
    "\n",
    "+lecturer('james')\n",
    "\n",
    "dean(X)<=professor(X)\n",
    "\n",
    "print(dean(X))"
   ]
  },
  {
   "cell_type": "code",
   "execution_count": 2,
   "id": "44d6592f",
   "metadata": {},
   "outputs": [
    {
     "name": "stdout",
     "output_type": "stream",
     "text": [
      "{('barney',)}\n",
      "{('james',)}\n",
      "X     \n",
      "------\n",
      "barney\n"
     ]
    }
   ],
   "source": [
    "from pyDatalog import pyDatalog\n",
    "pyDatalog.create_atoms('parent,male,female,son,daughter,X,Y,Z')\n",
    "+male('adam')\n",
    "+female('anne')\n",
    "+female('barney')\n",
    "+male('james')\n",
    "+parent('barney','adam')\n",
    "+parent('james','anne')\n",
    "son(X,Y)<= male(X) & parent(Y,X)\n",
    "daughter(X,Y)<= parent(Y,X) & female(X)\n",
    "\n",
    "print(pyDatalog.ask('son(adam,Y)'))\n",
    "print(pyDatalog.ask('daughter(anne,Y)'))\n",
    "print(son('adam',X))\n",
    "\n"
   ]
  },
  {
   "cell_type": "code",
   "execution_count": 4,
   "id": "df2015bf",
   "metadata": {},
   "outputs": [
    {
     "name": "stdout",
     "output_type": "stream",
     "text": [
      "X   \n",
      "----\n",
      "John\n",
      "Sam \n",
      "X   \n",
      "----\n",
      "Mary\n",
      "John\n"
     ]
    }
   ],
   "source": [
    "from pyDatalog import pyDatalog\n",
    "pyDatalog.create_terms('X,Y,Z, works_in, department_size, manager, indirect_manager, count_of_indirect_reports')\n",
    "# Mary works in Production\n",
    "+works_in('Mary', 'Production')\n",
    "+works_in('Sam',  'Marketing')\n",
    "+works_in('John', 'Production')\n",
    "+works_in('John', 'Marketing')\n",
    "+(manager['Mary'] == 'John')\n",
    "+(manager['Sam']  == 'Mary')\n",
    "+(manager['Tom']  == 'Mary')\n",
    "\n",
    "indirect_manager(X,Y) <= (manager[X] == Y)\n",
    "print(works_in(X,  'Marketi0ng'))\n",
    "indirect_manager(X,Y) <= (manager[X] == Z) & indirect_manager(Z,Y)\n",
    "print(indirect_manager('Sam',X))\n"
   ]
  },
  {
   "cell_type": "code",
   "execution_count": null,
   "id": "7521af2f",
   "metadata": {},
   "outputs": [],
   "source": []
  }
 ],
 "metadata": {
  "kernelspec": {
   "display_name": "Python 3 (ipykernel)",
   "language": "python",
   "name": "python3"
  },
  "language_info": {
   "codemirror_mode": {
    "name": "ipython",
    "version": 3
   },
   "file_extension": ".py",
   "mimetype": "text/x-python",
   "name": "python",
   "nbconvert_exporter": "python",
   "pygments_lexer": "ipython3",
   "version": "3.9.18"
  }
 },
 "nbformat": 4,
 "nbformat_minor": 5
}
