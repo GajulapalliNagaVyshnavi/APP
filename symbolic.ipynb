{
 "cells": [
  {
   "cell_type": "code",
   "execution_count": 27,
   "id": "25313752",
   "metadata": {},
   "outputs": [
    {
     "data": {
      "text/latex": [
       "$\\displaystyle 1.414213562373095048801688724209698078569671875376948073176679737990732478462107038850387534327641573$"
      ],
      "text/plain": [
       "1.414213562373095048801688724209698078569671875376948073176679737990732478462107038850387534327641573"
      ]
     },
     "execution_count": 27,
     "metadata": {},
     "output_type": "execute_result"
    }
   ],
   "source": [
    "#1\n",
    "import sympy as sym\n",
    "sym.sqrt(2).evalf(100)"
   ]
  },
  {
   "cell_type": "code",
   "execution_count": 1,
   "id": "fee503db",
   "metadata": {},
   "outputs": [
    {
     "data": {
      "text/latex": [
       "$\\displaystyle \\frac{5}{6}$"
      ],
      "text/plain": [
       "5/6"
      ]
     },
     "execution_count": 1,
     "metadata": {},
     "output_type": "execute_result"
    }
   ],
   "source": [
    "#2\n",
    "import sympy as sym\n",
    "a= (sym.Rational(1, 2) + sym.Rational(1, 3))\n",
    "a"
   ]
  },
  {
   "cell_type": "code",
   "execution_count": 7,
   "id": "7f427730",
   "metadata": {},
   "outputs": [
    {
     "data": {
      "text/latex": [
       "$\\displaystyle x^{6} + 6 x^{5} y + 15 x^{4} y^{2} + 20 x^{3} y^{3} + 15 x^{2} y^{4} + 6 x y^{5} + y^{6}$"
      ],
      "text/plain": [
       "x**6 + 6*x**5*y + 15*x**4*y**2 + 20*x**3*y**3 + 15*x**2*y**4 + 6*x*y**5 + y**6"
      ]
     },
     "execution_count": 7,
     "metadata": {},
     "output_type": "execute_result"
    }
   ],
   "source": [
    "#3\n",
    "import sympy as sym\n",
    "x = sym.Symbol('x')\n",
    "y = sym.Symbol('y')\n",
    "sym.expand((x + y) ** 6)\n"
   ]
  },
  {
   "cell_type": "code",
   "execution_count": 3,
   "id": "95118eda",
   "metadata": {},
   "outputs": [
    {
     "data": {
      "text/latex": [
       "$\\displaystyle \\tan{\\left(x \\right)}$"
      ],
      "text/plain": [
       "tan(x)"
      ]
     },
     "execution_count": 3,
     "metadata": {},
     "output_type": "execute_result"
    }
   ],
   "source": [
    "#4\n",
    "import sympy as sym\n",
    "x = sym.Symbol('x')\n",
    "sym.trigsimp(sym.sin(x)/ sym.cos(x), trig=True)\n"
   ]
  },
  {
   "cell_type": "code",
   "execution_count": 1,
   "id": "fd03a8d7",
   "metadata": {},
   "outputs": [
    {
     "data": {
      "text/latex": [
       "$\\displaystyle - \\frac{1}{6}$"
      ],
      "text/plain": [
       "-1/6"
      ]
     },
     "execution_count": 1,
     "metadata": {},
     "output_type": "execute_result"
    }
   ],
   "source": [
    "#5\n",
    "import sympy as sym\n",
    "x = sym.Symbol('x')\n",
    "sym.limit((sym.sin(x)-x)/x**3 ,x,0)\n"
   ]
  },
  {
   "cell_type": "code",
   "execution_count": 6,
   "id": "c125a116",
   "metadata": {},
   "outputs": [
    {
     "name": "stdout",
     "output_type": "stream",
     "text": [
      "1/x -1/x**2 cos(x) -sin(x)\n"
     ]
    }
   ],
   "source": [
    "#6\n",
    "import sympy as sym\n",
    "x = sym.Symbol('x')\n",
    "a=sym.diff(sym.log(x),x)\n",
    "b=sym.diff(1/x,x)\n",
    "c=sym.diff(sym.sin(x),x)\n",
    "d=sym.diff(sym.cos(x),x)\n",
    "print ( a, b,c,d)"
   ]
  },
  {
   "cell_type": "code",
   "execution_count": 18,
   "id": "48915e7b",
   "metadata": {},
   "outputs": [
    {
     "data": {
      "text/plain": [
       "(-2, 4)"
      ]
     },
     "execution_count": 18,
     "metadata": {},
     "output_type": "execute_result"
    }
   ],
   "source": [
    "#7\n",
    "import sympy as sym\n",
    "x = sym.Symbol('x')\n",
    "y = sym.Symbol('y')\n",
    "a= sym.solve((x+y-2,2*x+y),(x,y))\n",
    "a[x],a[y]"
   ]
  },
  {
   "cell_type": "code",
   "execution_count": 16,
   "id": "a5c7efeb",
   "metadata": {},
   "outputs": [
    {
     "name": "stdout",
     "output_type": "stream",
     "text": [
      "x**3/3 -cos(x) sin(x)\n"
     ]
    }
   ],
   "source": [
    "#8\n",
    "import sympy as sym\n",
    "x = sym.Symbol('x')\n",
    "a=sym.integrate(x**2,x)\n",
    "b=sym.integrate(sym.sin(x),x)\n",
    "c=sym.integrate(sym.cos(x),x)\n",
    "print (a,b,c)"
   ]
  },
  {
   "cell_type": "code",
   "execution_count": 9,
   "id": "4ef19f74",
   "metadata": {},
   "outputs": [
    {
     "data": {
      "text/latex": [
       "$\\displaystyle 8$"
      ],
      "text/plain": [
       "8"
      ]
     },
     "execution_count": 9,
     "metadata": {},
     "output_type": "execute_result"
    }
   ],
   "source": [
    "# 9\n",
    "import sympy as sym\n",
    "x = sym.Symbol('x')\n",
    "(sym.diff(sym.diff(x))+9*sym.diff(x)-1)"
   ]
  },
  {
   "cell_type": "code",
   "execution_count": 5,
   "id": "2eeac740",
   "metadata": {},
   "outputs": [
    {
     "data": {
      "text/latex": [
       "$\\displaystyle \\left[\\begin{matrix}5.726\\\\3.203\\end{matrix}\\right]$"
      ],
      "text/plain": [
       "Matrix([\n",
       "[5.726],\n",
       "[3.203]])"
      ]
     },
     "execution_count": 5,
     "metadata": {},
     "output_type": "execute_result"
    }
   ],
   "source": [
    "#10\n",
    "from sympy import symbols,Matrix\n",
    "x, y, z = symbols('x,y,z')\n",
    "A = Matrix(([3, 7], [4, -2]))\n",
    "A.inv()\n",
    "b = Matrix(( 12*z,5*z  ))\n",
    "x = A.inv()*b\n",
    "x.subs({z:3.3}).evalf(4)\n",
    "\n"
   ]
  },
  {
   "cell_type": "code",
   "execution_count": null,
   "id": "4a9a5353",
   "metadata": {},
   "outputs": [],
   "source": []
  }
 ],
 "metadata": {
  "kernelspec": {
   "display_name": "Python 3 (ipykernel)",
   "language": "python",
   "name": "python3"
  },
  "language_info": {
   "codemirror_mode": {
    "name": "ipython",
    "version": 3
   },
   "file_extension": ".py",
   "mimetype": "text/x-python",
   "name": "python",
   "nbconvert_exporter": "python",
   "pygments_lexer": "ipython3",
   "version": "3.9.18"
  }
 },
 "nbformat": 4,
 "nbformat_minor": 5
}
